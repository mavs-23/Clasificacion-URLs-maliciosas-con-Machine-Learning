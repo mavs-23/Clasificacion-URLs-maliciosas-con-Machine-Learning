{
 "cells": [
  {
   "cell_type": "markdown",
   "metadata": {},
   "source": [
    "# BOT DE TELEGRAM<br>"
   ]
  },
  {
   "cell_type": "code",
   "execution_count": null,
   "metadata": {},
   "outputs": [],
   "source": [
    "token = TOKEN\n",
    "\n",
    "import os\n",
    "import telebot\n",
    "import data_preparation\n",
    "import feature_extractor\n",
    "import pandas as pd\n",
    "from preprocess import preprocess\n",
    "from url_parser import parse_url\n",
    "from classificator import predict\n",
    "\n",
    "PROJECT_ROOT_PATH = \".\"\n",
    "MODELS_PATH = PROJECT_ROOT_PATH + os.sep + \"modelos\"\n",
    "\n",
    "#logger = telebot.logger\n",
    "#telebot.logger.setLevel(logging.DEBUG) # Outputs debug messages to console.\n",
    "\n",
    "bot = telebot.TeleBot(token)\n",
    "\n",
    "#message_handler detecta en Telegram el comando asociado. Ej: /start\n",
    "#La variable message almacena el mensaje que acompaña a cada comando\n",
    "#Ej: /detect https://www.google.es \n",
    "@bot.message_handler(commands=['start'])\n",
    "def send_welcome(message):\n",
    "    ini = \"Hola, envíame una URL y comprobaré si es maliciosa o no! \\nUtiliza el comando /detect <url> para comenzar. \\nSi necesitas ayuda ejecuta el comando /help .\"\n",
    "    #La función reply_to envía un mensaje al usuario de Telegram\n",
    "    bot.reply_to(message, ini)\n",
    "    \n",
    "@bot.message_handler(commands=['help'])\n",
    "def send_help(message):\n",
    "    help_message = \"Bot capaz de detectar URLs maliciosas. Los comandos son: \\n\\b- /detect <url> : comprueba si una URL es maliciosa o no \\n\\b- /stop : detiene el bot \\n\\b- /help : muestra esta ayuda\"\n",
    "    bot.reply_to(message, help_message)\n",
    "    \n",
    "@bot.message_handler(commands=['detect'])\n",
    "def handle_url(message):\n",
    "    url = str(message.text)\n",
    "    urls = url.split()\n",
    "    first_url = urls[1]\n",
    "    if not data_preparation.contains_scheme(first_url):\n",
    "            first_url = 'http://' + first_url\n",
    "    if not data_preparation.url_is_valid(first_url):\n",
    "        error_msg = \"URL no válida. ¡Por favor, introduzca una URL válida!.\"\n",
    "        bot.reply_to(message, error_msg)\n",
    "    else:\n",
    "        checking_url_msg = \"Comprobando URL. Espere unos segundos...!\"\n",
    "        bot.reply_to(message, checking_url_msg)\n",
    "        first_url = data_preparation.url_to_lowercase(first_url)\n",
    "        #First technique\n",
    "        most_abused_tlds, suspect_extensions = feature_extractor.initialize_resources()\n",
    "        features = feature_extractor.extract_features(first_url, most_abused_tlds, suspect_extensions)\n",
    "        preprocess_features_1 = preprocess(features)\n",
    "        columns = ['hostname_depth','domain_length', 'hostname_length', 'n_special', 'www_prefix', 'vowel_consonant_ratio', 'digit_character_ratio', 'bad_tld', 'malicious_extension']\n",
    "        df_features_1 = pd.DataFrame([preprocess_features_1], columns=columns)\n",
    "        #Second technique\n",
    "        df_parts_url_2 = parse_url(first_url)\n",
    "        prediction = predict(df_features_1, df_parts_url_2)\n",
    "        if prediction == 0:\n",
    "            bot.reply_to(message, \"URL no maliciosa\")\n",
    "        else:\n",
    "            bot.reply_to(message, \"¡URL maliciosa!\")    \n",
    "\n",
    "bot.polling(none_stop=True)"
   ]
  },
  {
   "cell_type": "code",
   "execution_count": null,
   "metadata": {},
   "outputs": [],
   "source": []
  }
 ],
 "metadata": {
  "kernelspec": {
   "display_name": "Python 3",
   "language": "python",
   "name": "python3"
  },
  "language_info": {
   "codemirror_mode": {
    "name": "ipython",
    "version": 3
   },
   "file_extension": ".py",
   "mimetype": "text/x-python",
   "name": "python",
   "nbconvert_exporter": "python",
   "pygments_lexer": "ipython3",
   "version": "3.7.3"
  }
 },
 "nbformat": 4,
 "nbformat_minor": 4
}
