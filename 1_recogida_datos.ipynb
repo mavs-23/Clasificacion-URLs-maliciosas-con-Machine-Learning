{
 "cells": [
  {
   "cell_type": "markdown",
   "metadata": {},
   "source": [
    "# RECOGIDA DE LOS DATOS<br>\n",
    "\n",
    "En este apartado se tratarán los 3 datasets y almacenando la información en uno único:"
   ]
  },
  {
   "cell_type": "markdown",
   "metadata": {},
   "source": [
    "- Importamos las _librerías_ necesarias:"
   ]
  },
  {
   "cell_type": "code",
   "execution_count": 1,
   "metadata": {},
   "outputs": [
    {
     "data": {
      "text/html": [
       "<style>\n",
       ".output {\n",
       "    flex-direction: row;\n",
       "}\n",
       "</style>"
      ],
      "text/plain": [
       "<IPython.core.display.HTML object>"
      ]
     },
     "execution_count": 1,
     "metadata": {},
     "output_type": "execute_result"
    }
   ],
   "source": [
    "import re\n",
    "import time\n",
    "import numpy as np\n",
    "\n",
    "import random\n",
    "import tldextract\n",
    "import ipaddress\n",
    "from urllib.parse import urlparse\n",
    "\n",
    "from urllib.request import urlopen\n",
    "import requests \n",
    "from bs4 import BeautifulSoup\n",
    "\n",
    "from IPython.display import display, HTML\n",
    "\n",
    "CSS = \"\"\"\n",
    ".output {\n",
    "    flex-direction: row;\n",
    "}\n",
    "\"\"\"\n",
    "\n",
    "HTML('<style>{}</style>'.format(CSS))"
   ]
  },
  {
   "cell_type": "markdown",
   "metadata": {},
   "source": [
    "- __Directorios__ utilizados:"
   ]
  },
  {
   "cell_type": "code",
   "execution_count": 2,
   "metadata": {},
   "outputs": [],
   "source": [
    "import os\n",
    "PROJECT_ROOT_PATH = \".\"\n",
    "DATASETS_PATH = PROJECT_ROOT_PATH + os.sep + \"datasets\"\n",
    "FINAL_DATASETS_PATH = PROJECT_ROOT_PATH + os.sep + \"final_datasets\""
   ]
  },
  {
   "cell_type": "markdown",
   "metadata": {},
   "source": [
    "***"
   ]
  },
  {
   "cell_type": "markdown",
   "metadata": {},
   "source": [
    "- Con la siguiente función leemos cada fichero CSV y devolvemos un _DataFrame_:<br>"
   ]
  },
  {
   "cell_type": "code",
   "execution_count": 3,
   "metadata": {},
   "outputs": [],
   "source": [
    "import pandas as pd\n",
    "\n",
    "def load_data(filename, separator, folder, path=DATASETS_PATH):\n",
    "    file_path = os.path.join(path, folder + os.sep + filename)\n",
    "    return pd.read_csv(file_path, sep=separator)"
   ]
  },
  {
   "cell_type": "markdown",
   "metadata": {},
   "source": [
    "- Recogemos los datos de __tres fuentes__ diferentes, almacenando cada conjunto de datos en un _Dataframe_ diferente:<br>\n",
    "__1.__ _df__urldata_, fichero __urldata.csv__ (fuente: https://www.kaggle.com/siddharthkumar25/malicious-and-benign-urls/kernels)<br>\n",
    "__2.__ _df__malware_, fichero __Malware_dataset.csv__ (fuente: https://www.unb.ca/cic/datasets/url-2016.html)<br>\n",
    "__3.__ _df__urlhaus__malicious_, fichero __urlhaus_dataset.csv__ (fuente: https://urlhaus.abuse.ch/api/#retrieve)<br>"
   ]
  },
  {
   "cell_type": "code",
   "execution_count": 4,
   "metadata": {},
   "outputs": [],
   "source": [
    "df_urldata = load_data(\"urldata.csv\",',', \"malicious-and-benign-url-datasets\")\n",
    "df_malware = load_data(\"Malware_dataset.csv\",',', \"malicious-url-datasets\")\n",
    "df_urlhaus_malicious = load_data(\"urlhaus_dataset.csv\",',', \"malicious-url-datasets\")"
   ]
  },
  {
   "cell_type": "markdown",
   "metadata": {},
   "source": [
    "## __1.__ __urldata.csv__<br>\n",
    "- Comprobamos el contenido del _Dataframe df__urldata_. Con la función _head_ en Pandas obtenemos las 5 primeras líneas del _DataFrame_ si no especificamos ningún otro valor:<br>"
   ]
  },
  {
   "cell_type": "code",
   "execution_count": 5,
   "metadata": {},
   "outputs": [
    {
     "data": {
      "text/html": [
       "<div>\n",
       "<style scoped>\n",
       "    .dataframe tbody tr th:only-of-type {\n",
       "        vertical-align: middle;\n",
       "    }\n",
       "\n",
       "    .dataframe tbody tr th {\n",
       "        vertical-align: top;\n",
       "    }\n",
       "\n",
       "    .dataframe thead th {\n",
       "        text-align: right;\n",
       "    }\n",
       "</style>\n",
       "<table border=\"1\" class=\"dataframe\">\n",
       "  <thead>\n",
       "    <tr style=\"text-align: right;\">\n",
       "      <th></th>\n",
       "      <th>Unnamed: 0</th>\n",
       "      <th>url</th>\n",
       "      <th>label</th>\n",
       "      <th>result</th>\n",
       "    </tr>\n",
       "  </thead>\n",
       "  <tbody>\n",
       "    <tr>\n",
       "      <th>0</th>\n",
       "      <td>0</td>\n",
       "      <td>https://www.google.com</td>\n",
       "      <td>benign</td>\n",
       "      <td>0</td>\n",
       "    </tr>\n",
       "    <tr>\n",
       "      <th>1</th>\n",
       "      <td>1</td>\n",
       "      <td>https://www.youtube.com</td>\n",
       "      <td>benign</td>\n",
       "      <td>0</td>\n",
       "    </tr>\n",
       "    <tr>\n",
       "      <th>2</th>\n",
       "      <td>2</td>\n",
       "      <td>https://www.facebook.com</td>\n",
       "      <td>benign</td>\n",
       "      <td>0</td>\n",
       "    </tr>\n",
       "    <tr>\n",
       "      <th>3</th>\n",
       "      <td>3</td>\n",
       "      <td>https://www.baidu.com</td>\n",
       "      <td>benign</td>\n",
       "      <td>0</td>\n",
       "    </tr>\n",
       "    <tr>\n",
       "      <th>4</th>\n",
       "      <td>4</td>\n",
       "      <td>https://www.wikipedia.org</td>\n",
       "      <td>benign</td>\n",
       "      <td>0</td>\n",
       "    </tr>\n",
       "  </tbody>\n",
       "</table>\n",
       "</div>"
      ],
      "text/plain": [
       "   Unnamed: 0                        url   label  result\n",
       "0           0     https://www.google.com  benign       0\n",
       "1           1    https://www.youtube.com  benign       0\n",
       "2           2   https://www.facebook.com  benign       0\n",
       "3           3      https://www.baidu.com  benign       0\n",
       "4           4  https://www.wikipedia.org  benign       0"
      ]
     },
     "execution_count": 5,
     "metadata": {},
     "output_type": "execute_result"
    }
   ],
   "source": [
    "df_urldata.head()"
   ]
  },
  {
   "cell_type": "markdown",
   "metadata": {},
   "source": [
    "- Comprobamos la información del _DataFrame_:<br>"
   ]
  },
  {
   "cell_type": "code",
   "execution_count": 6,
   "metadata": {},
   "outputs": [
    {
     "name": "stdout",
     "output_type": "stream",
     "text": [
      "<class 'pandas.core.frame.DataFrame'>\n",
      "RangeIndex: 417336 entries, 0 to 417335\n",
      "Data columns (total 4 columns):\n",
      " #   Column      Non-Null Count   Dtype \n",
      "---  ------      --------------   ----- \n",
      " 0   Unnamed: 0  417336 non-null  int64 \n",
      " 1   url         417336 non-null  object\n",
      " 2   label       417336 non-null  object\n",
      " 3   result      417336 non-null  int64 \n",
      "dtypes: int64(2), object(2)\n",
      "memory usage: 12.7+ MB\n"
     ]
    }
   ],
   "source": [
    "df_urldata.info()"
   ]
  },
  {
   "cell_type": "markdown",
   "metadata": {},
   "source": [
    "- Agrupamos los datos según los valores de la columna \"label\":<br>"
   ]
  },
  {
   "cell_type": "code",
   "execution_count": 7,
   "metadata": {},
   "outputs": [
    {
     "data": {
      "text/plain": [
       "benign       345738\n",
       "malicious     71598\n",
       "Name: label, dtype: int64"
      ]
     },
     "execution_count": 7,
     "metadata": {},
     "output_type": "execute_result"
    }
   ],
   "source": [
    "df_urldata[\"label\"].value_counts()"
   ]
  },
  {
   "cell_type": "markdown",
   "metadata": {},
   "source": [
    "Si agrupamos los datos según los valores de la columna __'label'__ (benign y malicious) comprobamos que existen 71598 URLs categorizadas como maliciosas y 345738 no maliciosas.<br>\n",
    "Podemos ver que contiene __cuatro columnas__. De estas cuatro nos interesan solamente las columnas __'url'__ y __'label'__:<br>"
   ]
  },
  {
   "cell_type": "markdown",
   "metadata": {},
   "source": [
    "- Eliminamos las columnas \"Unnamed: 0\" y \"result\":"
   ]
  },
  {
   "cell_type": "code",
   "execution_count": 8,
   "metadata": {},
   "outputs": [
    {
     "data": {
      "text/html": [
       "<div>\n",
       "<style scoped>\n",
       "    .dataframe tbody tr th:only-of-type {\n",
       "        vertical-align: middle;\n",
       "    }\n",
       "\n",
       "    .dataframe tbody tr th {\n",
       "        vertical-align: top;\n",
       "    }\n",
       "\n",
       "    .dataframe thead th {\n",
       "        text-align: right;\n",
       "    }\n",
       "</style>\n",
       "<table border=\"1\" class=\"dataframe\">\n",
       "  <thead>\n",
       "    <tr style=\"text-align: right;\">\n",
       "      <th></th>\n",
       "      <th>url</th>\n",
       "      <th>label</th>\n",
       "    </tr>\n",
       "  </thead>\n",
       "  <tbody>\n",
       "    <tr>\n",
       "      <th>0</th>\n",
       "      <td>https://www.google.com</td>\n",
       "      <td>benign</td>\n",
       "    </tr>\n",
       "    <tr>\n",
       "      <th>1</th>\n",
       "      <td>https://www.youtube.com</td>\n",
       "      <td>benign</td>\n",
       "    </tr>\n",
       "    <tr>\n",
       "      <th>2</th>\n",
       "      <td>https://www.facebook.com</td>\n",
       "      <td>benign</td>\n",
       "    </tr>\n",
       "    <tr>\n",
       "      <th>3</th>\n",
       "      <td>https://www.baidu.com</td>\n",
       "      <td>benign</td>\n",
       "    </tr>\n",
       "    <tr>\n",
       "      <th>4</th>\n",
       "      <td>https://www.wikipedia.org</td>\n",
       "      <td>benign</td>\n",
       "    </tr>\n",
       "  </tbody>\n",
       "</table>\n",
       "</div>"
      ],
      "text/plain": [
       "                         url   label\n",
       "0     https://www.google.com  benign\n",
       "1    https://www.youtube.com  benign\n",
       "2   https://www.facebook.com  benign\n",
       "3      https://www.baidu.com  benign\n",
       "4  https://www.wikipedia.org  benign"
      ]
     },
     "metadata": {},
     "output_type": "display_data"
    },
    {
     "data": {
      "text/html": [
       "<div>\n",
       "<style scoped>\n",
       "    .dataframe tbody tr th:only-of-type {\n",
       "        vertical-align: middle;\n",
       "    }\n",
       "\n",
       "    .dataframe tbody tr th {\n",
       "        vertical-align: top;\n",
       "    }\n",
       "\n",
       "    .dataframe thead th {\n",
       "        text-align: right;\n",
       "    }\n",
       "</style>\n",
       "<table border=\"1\" class=\"dataframe\">\n",
       "  <thead>\n",
       "    <tr style=\"text-align: right;\">\n",
       "      <th></th>\n",
       "      <th>url</th>\n",
       "    </tr>\n",
       "    <tr>\n",
       "      <th>label</th>\n",
       "      <th></th>\n",
       "    </tr>\n",
       "  </thead>\n",
       "  <tbody>\n",
       "    <tr>\n",
       "      <th>benign</th>\n",
       "      <td>345738</td>\n",
       "    </tr>\n",
       "    <tr>\n",
       "      <th>malicious</th>\n",
       "      <td>71598</td>\n",
       "    </tr>\n",
       "  </tbody>\n",
       "</table>\n",
       "</div>"
      ],
      "text/plain": [
       "              url\n",
       "label            \n",
       "benign     345738\n",
       "malicious   71598"
      ]
     },
     "metadata": {},
     "output_type": "display_data"
    }
   ],
   "source": [
    "#DataFrame con sólo columnas \"url\" y \"label\"\n",
    "df_urldata = df_urldata.drop(['Unnamed: 0','result'], axis=1)\n",
    "display(df_urldata.head())\n",
    "\n",
    "#Agrupamos datos por columna \"label\"\n",
    "display(df_urldata.groupby(['label']).count())"
   ]
  },
  {
   "cell_type": "markdown",
   "metadata": {},
   "source": [
    "## __2.__ Malware_dataset.csv<br>\n",
    "- Comprobamos el contenido del _Dataframe df__malware_:<br>"
   ]
  },
  {
   "cell_type": "code",
   "execution_count": 9,
   "metadata": {},
   "outputs": [
    {
     "data": {
      "text/html": [
       "<div>\n",
       "<style scoped>\n",
       "    .dataframe tbody tr th:only-of-type {\n",
       "        vertical-align: middle;\n",
       "    }\n",
       "\n",
       "    .dataframe tbody tr th {\n",
       "        vertical-align: top;\n",
       "    }\n",
       "\n",
       "    .dataframe thead th {\n",
       "        text-align: right;\n",
       "    }\n",
       "</style>\n",
       "<table border=\"1\" class=\"dataframe\">\n",
       "  <thead>\n",
       "    <tr style=\"text-align: right;\">\n",
       "      <th></th>\n",
       "      <th>url</th>\n",
       "    </tr>\n",
       "  </thead>\n",
       "  <tbody>\n",
       "    <tr>\n",
       "      <th>0</th>\n",
       "      <td>http://gzzax.livechatvalue.com/chat/chatClient...</td>\n",
       "    </tr>\n",
       "    <tr>\n",
       "      <th>1</th>\n",
       "      <td>http://gzzax.livechatvalue.com/chat/chatClient...</td>\n",
       "    </tr>\n",
       "    <tr>\n",
       "      <th>2</th>\n",
       "      <td>http://gzzax.livechatvalue.com/chat/chatClient...</td>\n",
       "    </tr>\n",
       "    <tr>\n",
       "      <th>3</th>\n",
       "      <td>http://gzzax.livechatvalue.com/chat/chatClient...</td>\n",
       "    </tr>\n",
       "    <tr>\n",
       "      <th>4</th>\n",
       "      <td>http://mtsx.com.cn/UploadFiles/2011-08/admin/%...</td>\n",
       "    </tr>\n",
       "  </tbody>\n",
       "</table>\n",
       "</div>"
      ],
      "text/plain": [
       "                                                 url\n",
       "0  http://gzzax.livechatvalue.com/chat/chatClient...\n",
       "1  http://gzzax.livechatvalue.com/chat/chatClient...\n",
       "2  http://gzzax.livechatvalue.com/chat/chatClient...\n",
       "3  http://gzzax.livechatvalue.com/chat/chatClient...\n",
       "4  http://mtsx.com.cn/UploadFiles/2011-08/admin/%..."
      ]
     },
     "execution_count": 9,
     "metadata": {},
     "output_type": "execute_result"
    }
   ],
   "source": [
    "df_malware.head()"
   ]
  },
  {
   "cell_type": "markdown",
   "metadata": {},
   "source": [
    "- Comprobamos la información del _DataFrame_:<br>"
   ]
  },
  {
   "cell_type": "code",
   "execution_count": 10,
   "metadata": {},
   "outputs": [
    {
     "name": "stdout",
     "output_type": "stream",
     "text": [
      "<class 'pandas.core.frame.DataFrame'>\n",
      "RangeIndex: 11566 entries, 0 to 11565\n",
      "Data columns (total 1 columns):\n",
      " #   Column  Non-Null Count  Dtype \n",
      "---  ------  --------------  ----- \n",
      " 0   url     11566 non-null  object\n",
      "dtypes: object(1)\n",
      "memory usage: 90.5+ KB\n"
     ]
    }
   ],
   "source": [
    "df_malware.info()"
   ]
  },
  {
   "cell_type": "markdown",
   "metadata": {},
   "source": [
    "Este _Dataframe_ solo contiene __una columna 'url'__.<br>\n",
    "Este _Dataset_ consiste en una blacklist de URLs maliciosas, por lo que en todo el conjunto no encontraremos ninguna URL que no sea maliciosa. Añadimos una __nueva columna 'label'__ con el valor _'malicious'_ para cada una de las URLs:<br>"
   ]
  },
  {
   "cell_type": "code",
   "execution_count": 11,
   "metadata": {},
   "outputs": [
    {
     "data": {
      "text/html": [
       "<div>\n",
       "<style scoped>\n",
       "    .dataframe tbody tr th:only-of-type {\n",
       "        vertical-align: middle;\n",
       "    }\n",
       "\n",
       "    .dataframe tbody tr th {\n",
       "        vertical-align: top;\n",
       "    }\n",
       "\n",
       "    .dataframe thead th {\n",
       "        text-align: right;\n",
       "    }\n",
       "</style>\n",
       "<table border=\"1\" class=\"dataframe\">\n",
       "  <thead>\n",
       "    <tr style=\"text-align: right;\">\n",
       "      <th></th>\n",
       "      <th>url</th>\n",
       "      <th>label</th>\n",
       "    </tr>\n",
       "  </thead>\n",
       "  <tbody>\n",
       "    <tr>\n",
       "      <th>0</th>\n",
       "      <td>http://gzzax.livechatvalue.com/chat/chatClient...</td>\n",
       "      <td>malicious</td>\n",
       "    </tr>\n",
       "    <tr>\n",
       "      <th>1</th>\n",
       "      <td>http://gzzax.livechatvalue.com/chat/chatClient...</td>\n",
       "      <td>malicious</td>\n",
       "    </tr>\n",
       "    <tr>\n",
       "      <th>2</th>\n",
       "      <td>http://gzzax.livechatvalue.com/chat/chatClient...</td>\n",
       "      <td>malicious</td>\n",
       "    </tr>\n",
       "    <tr>\n",
       "      <th>3</th>\n",
       "      <td>http://gzzax.livechatvalue.com/chat/chatClient...</td>\n",
       "      <td>malicious</td>\n",
       "    </tr>\n",
       "    <tr>\n",
       "      <th>4</th>\n",
       "      <td>http://mtsx.com.cn/UploadFiles/2011-08/admin/%...</td>\n",
       "      <td>malicious</td>\n",
       "    </tr>\n",
       "  </tbody>\n",
       "</table>\n",
       "</div>"
      ],
      "text/plain": [
       "                                                 url      label\n",
       "0  http://gzzax.livechatvalue.com/chat/chatClient...  malicious\n",
       "1  http://gzzax.livechatvalue.com/chat/chatClient...  malicious\n",
       "2  http://gzzax.livechatvalue.com/chat/chatClient...  malicious\n",
       "3  http://gzzax.livechatvalue.com/chat/chatClient...  malicious\n",
       "4  http://mtsx.com.cn/UploadFiles/2011-08/admin/%...  malicious"
      ]
     },
     "execution_count": 11,
     "metadata": {},
     "output_type": "execute_result"
    }
   ],
   "source": [
    "df_malware['label'] = \"malicious\"\n",
    "df_malware.head()"
   ]
  },
  {
   "cell_type": "markdown",
   "metadata": {},
   "source": [
    "- Agrupamos los datos según los valores de la columna \"label\":<br>"
   ]
  },
  {
   "cell_type": "code",
   "execution_count": 12,
   "metadata": {},
   "outputs": [
    {
     "data": {
      "text/plain": [
       "malicious    11566\n",
       "Name: label, dtype: int64"
      ]
     },
     "execution_count": 12,
     "metadata": {},
     "output_type": "execute_result"
    }
   ],
   "source": [
    "df_malware[\"label\"].value_counts()"
   ]
  },
  {
   "cell_type": "code",
   "execution_count": 13,
   "metadata": {},
   "outputs": [
    {
     "data": {
      "text/html": [
       "<div>\n",
       "<style scoped>\n",
       "    .dataframe tbody tr th:only-of-type {\n",
       "        vertical-align: middle;\n",
       "    }\n",
       "\n",
       "    .dataframe tbody tr th {\n",
       "        vertical-align: top;\n",
       "    }\n",
       "\n",
       "    .dataframe thead th {\n",
       "        text-align: right;\n",
       "    }\n",
       "</style>\n",
       "<table border=\"1\" class=\"dataframe\">\n",
       "  <thead>\n",
       "    <tr style=\"text-align: right;\">\n",
       "      <th></th>\n",
       "      <th>url</th>\n",
       "      <th>label</th>\n",
       "    </tr>\n",
       "  </thead>\n",
       "  <tbody>\n",
       "    <tr>\n",
       "      <th>0</th>\n",
       "      <td>http://gzzax.livechatvalue.com/chat/chatClient...</td>\n",
       "      <td>malicious</td>\n",
       "    </tr>\n",
       "    <tr>\n",
       "      <th>1</th>\n",
       "      <td>http://gzzax.livechatvalue.com/chat/chatClient...</td>\n",
       "      <td>malicious</td>\n",
       "    </tr>\n",
       "    <tr>\n",
       "      <th>2</th>\n",
       "      <td>http://gzzax.livechatvalue.com/chat/chatClient...</td>\n",
       "      <td>malicious</td>\n",
       "    </tr>\n",
       "    <tr>\n",
       "      <th>3</th>\n",
       "      <td>http://gzzax.livechatvalue.com/chat/chatClient...</td>\n",
       "      <td>malicious</td>\n",
       "    </tr>\n",
       "    <tr>\n",
       "      <th>4</th>\n",
       "      <td>http://mtsx.com.cn/UploadFiles/2011-08/admin/%...</td>\n",
       "      <td>malicious</td>\n",
       "    </tr>\n",
       "  </tbody>\n",
       "</table>\n",
       "</div>"
      ],
      "text/plain": [
       "                                                 url      label\n",
       "0  http://gzzax.livechatvalue.com/chat/chatClient...  malicious\n",
       "1  http://gzzax.livechatvalue.com/chat/chatClient...  malicious\n",
       "2  http://gzzax.livechatvalue.com/chat/chatClient...  malicious\n",
       "3  http://gzzax.livechatvalue.com/chat/chatClient...  malicious\n",
       "4  http://mtsx.com.cn/UploadFiles/2011-08/admin/%...  malicious"
      ]
     },
     "metadata": {},
     "output_type": "display_data"
    },
    {
     "data": {
      "text/html": [
       "<div>\n",
       "<style scoped>\n",
       "    .dataframe tbody tr th:only-of-type {\n",
       "        vertical-align: middle;\n",
       "    }\n",
       "\n",
       "    .dataframe tbody tr th {\n",
       "        vertical-align: top;\n",
       "    }\n",
       "\n",
       "    .dataframe thead th {\n",
       "        text-align: right;\n",
       "    }\n",
       "</style>\n",
       "<table border=\"1\" class=\"dataframe\">\n",
       "  <thead>\n",
       "    <tr style=\"text-align: right;\">\n",
       "      <th></th>\n",
       "      <th>url</th>\n",
       "      <th>label</th>\n",
       "    </tr>\n",
       "  </thead>\n",
       "  <tbody>\n",
       "    <tr>\n",
       "      <th>0</th>\n",
       "      <td>http://gzzax.livechatvalue.com/chat/chatClient...</td>\n",
       "      <td>malicious</td>\n",
       "    </tr>\n",
       "    <tr>\n",
       "      <th>1</th>\n",
       "      <td>http://gzzax.livechatvalue.com/chat/chatClient...</td>\n",
       "      <td>malicious</td>\n",
       "    </tr>\n",
       "    <tr>\n",
       "      <th>2</th>\n",
       "      <td>http://gzzax.livechatvalue.com/chat/chatClient...</td>\n",
       "      <td>malicious</td>\n",
       "    </tr>\n",
       "    <tr>\n",
       "      <th>3</th>\n",
       "      <td>http://gzzax.livechatvalue.com/chat/chatClient...</td>\n",
       "      <td>malicious</td>\n",
       "    </tr>\n",
       "    <tr>\n",
       "      <th>4</th>\n",
       "      <td>http://mtsx.com.cn/UploadFiles/2011-08/admin/%...</td>\n",
       "      <td>malicious</td>\n",
       "    </tr>\n",
       "  </tbody>\n",
       "</table>\n",
       "</div>"
      ],
      "text/plain": [
       "                                                 url      label\n",
       "0  http://gzzax.livechatvalue.com/chat/chatClient...  malicious\n",
       "1  http://gzzax.livechatvalue.com/chat/chatClient...  malicious\n",
       "2  http://gzzax.livechatvalue.com/chat/chatClient...  malicious\n",
       "3  http://gzzax.livechatvalue.com/chat/chatClient...  malicious\n",
       "4  http://mtsx.com.cn/UploadFiles/2011-08/admin/%...  malicious"
      ]
     },
     "metadata": {},
     "output_type": "display_data"
    },
    {
     "data": {
      "text/html": [
       "<div>\n",
       "<style scoped>\n",
       "    .dataframe tbody tr th:only-of-type {\n",
       "        vertical-align: middle;\n",
       "    }\n",
       "\n",
       "    .dataframe tbody tr th {\n",
       "        vertical-align: top;\n",
       "    }\n",
       "\n",
       "    .dataframe thead th {\n",
       "        text-align: right;\n",
       "    }\n",
       "</style>\n",
       "<table border=\"1\" class=\"dataframe\">\n",
       "  <thead>\n",
       "    <tr style=\"text-align: right;\">\n",
       "      <th></th>\n",
       "      <th>url</th>\n",
       "    </tr>\n",
       "    <tr>\n",
       "      <th>label</th>\n",
       "      <th></th>\n",
       "    </tr>\n",
       "  </thead>\n",
       "  <tbody>\n",
       "    <tr>\n",
       "      <th>malicious</th>\n",
       "      <td>11566</td>\n",
       "    </tr>\n",
       "  </tbody>\n",
       "</table>\n",
       "</div>"
      ],
      "text/plain": [
       "             url\n",
       "label           \n",
       "malicious  11566"
      ]
     },
     "metadata": {},
     "output_type": "display_data"
    }
   ],
   "source": [
    "display(df_malware.head())\n",
    "df_malware[\"label\"] = 'malicious';display(df_malware.head())\n",
    "display(df_malware.groupby([\"label\"]).count())"
   ]
  },
  {
   "cell_type": "markdown",
   "metadata": {},
   "source": [
    "Si agrupamos los datos según los valores de la columna 'label' (solo _malicious_) comprobamos que existen __11566 URLs__ __maliciosas__.<br>"
   ]
  },
  {
   "cell_type": "markdown",
   "metadata": {},
   "source": [
    "## __3.__ urlhaus_dataset.csv<br>\n",
    "- Comprobamos el contenido del _Dataframe df__urlhaus__malicious_:<br>"
   ]
  },
  {
   "cell_type": "code",
   "execution_count": 14,
   "metadata": {},
   "outputs": [
    {
     "data": {
      "text/html": [
       "<div>\n",
       "<style scoped>\n",
       "    .dataframe tbody tr th:only-of-type {\n",
       "        vertical-align: middle;\n",
       "    }\n",
       "\n",
       "    .dataframe tbody tr th {\n",
       "        vertical-align: top;\n",
       "    }\n",
       "\n",
       "    .dataframe thead th {\n",
       "        text-align: right;\n",
       "    }\n",
       "</style>\n",
       "<table border=\"1\" class=\"dataframe\">\n",
       "  <thead>\n",
       "    <tr style=\"text-align: right;\">\n",
       "      <th></th>\n",
       "      <th>id</th>\n",
       "      <th>dateadded</th>\n",
       "      <th>url</th>\n",
       "      <th>url_status</th>\n",
       "      <th>threat</th>\n",
       "      <th>tags</th>\n",
       "      <th>urlhaus_link</th>\n",
       "      <th>reporter</th>\n",
       "    </tr>\n",
       "  </thead>\n",
       "  <tbody>\n",
       "    <tr>\n",
       "      <th>0</th>\n",
       "      <td>288338</td>\n",
       "      <td>2020-04-18 22:29:56</td>\n",
       "      <td>https://mitsui-jyuku.mixh.jp/uploads/3884d4fe8...</td>\n",
       "      <td>online</td>\n",
       "      <td>malware_download</td>\n",
       "      <td>exe</td>\n",
       "      <td>https://urlhaus.abuse.ch/url/344185/</td>\n",
       "      <td>p5yb34m</td>\n",
       "    </tr>\n",
       "    <tr>\n",
       "      <th>1</th>\n",
       "      <td>288337</td>\n",
       "      <td>2020-04-18 22:29:46</td>\n",
       "      <td>https://mitsui-jyuku.mixh.jp/uploads/3881q2w3e...</td>\n",
       "      <td>online</td>\n",
       "      <td>malware_download</td>\n",
       "      <td>exe</td>\n",
       "      <td>https://urlhaus.abuse.ch/url/344184/</td>\n",
       "      <td>p5yb34m</td>\n",
       "    </tr>\n",
       "    <tr>\n",
       "      <th>2</th>\n",
       "      <td>288336</td>\n",
       "      <td>2020-04-18 22:29:42</td>\n",
       "      <td>https://mitsui-jyuku.mixh.jp/uploads/387N8Mk0.exe</td>\n",
       "      <td>online</td>\n",
       "      <td>malware_download</td>\n",
       "      <td>exe</td>\n",
       "      <td>https://urlhaus.abuse.ch/url/344183/</td>\n",
       "      <td>p5yb34m</td>\n",
       "    </tr>\n",
       "    <tr>\n",
       "      <th>3</th>\n",
       "      <td>288335</td>\n",
       "      <td>2020-04-18 22:29:28</td>\n",
       "      <td>https://mitsui-jyuku.mixh.jp/uploads/3870nH6.exe</td>\n",
       "      <td>online</td>\n",
       "      <td>malware_download</td>\n",
       "      <td>exe</td>\n",
       "      <td>https://urlhaus.abuse.ch/url/344182/</td>\n",
       "      <td>p5yb34m</td>\n",
       "    </tr>\n",
       "    <tr>\n",
       "      <th>4</th>\n",
       "      <td>288334</td>\n",
       "      <td>2020-04-18 22:29:23</td>\n",
       "      <td>https://mitsui-jyuku.mixh.jp/uploads/386ODNO38...</td>\n",
       "      <td>online</td>\n",
       "      <td>malware_download</td>\n",
       "      <td>exe</td>\n",
       "      <td>https://urlhaus.abuse.ch/url/344181/</td>\n",
       "      <td>p5yb34m</td>\n",
       "    </tr>\n",
       "  </tbody>\n",
       "</table>\n",
       "</div>"
      ],
      "text/plain": [
       "       id            dateadded  \\\n",
       "0  288338  2020-04-18 22:29:56   \n",
       "1  288337  2020-04-18 22:29:46   \n",
       "2  288336  2020-04-18 22:29:42   \n",
       "3  288335  2020-04-18 22:29:28   \n",
       "4  288334  2020-04-18 22:29:23   \n",
       "\n",
       "                                                 url url_status  \\\n",
       "0  https://mitsui-jyuku.mixh.jp/uploads/3884d4fe8...     online   \n",
       "1  https://mitsui-jyuku.mixh.jp/uploads/3881q2w3e...     online   \n",
       "2  https://mitsui-jyuku.mixh.jp/uploads/387N8Mk0.exe     online   \n",
       "3   https://mitsui-jyuku.mixh.jp/uploads/3870nH6.exe     online   \n",
       "4  https://mitsui-jyuku.mixh.jp/uploads/386ODNO38...     online   \n",
       "\n",
       "             threat tags                          urlhaus_link reporter  \n",
       "0  malware_download  exe  https://urlhaus.abuse.ch/url/344185/  p5yb34m  \n",
       "1  malware_download  exe  https://urlhaus.abuse.ch/url/344184/  p5yb34m  \n",
       "2  malware_download  exe  https://urlhaus.abuse.ch/url/344183/  p5yb34m  \n",
       "3  malware_download  exe  https://urlhaus.abuse.ch/url/344182/  p5yb34m  \n",
       "4  malware_download  exe  https://urlhaus.abuse.ch/url/344181/  p5yb34m  "
      ]
     },
     "execution_count": 14,
     "metadata": {},
     "output_type": "execute_result"
    }
   ],
   "source": [
    "df_urlhaus_malicious.head()"
   ]
  },
  {
   "cell_type": "markdown",
   "metadata": {},
   "source": [
    "- Comprobamos la información del _DataFrame_:<br>"
   ]
  },
  {
   "cell_type": "code",
   "execution_count": 15,
   "metadata": {},
   "outputs": [
    {
     "name": "stdout",
     "output_type": "stream",
     "text": [
      "<class 'pandas.core.frame.DataFrame'>\n",
      "RangeIndex: 288339 entries, 0 to 288338\n",
      "Data columns (total 8 columns):\n",
      " #   Column        Non-Null Count   Dtype \n",
      "---  ------        --------------   ----- \n",
      " 0   id            288339 non-null  int64 \n",
      " 1   dateadded     288339 non-null  object\n",
      " 2   url           288339 non-null  object\n",
      " 3   url_status    288327 non-null  object\n",
      " 4   threat        288295 non-null  object\n",
      " 5   tags          288339 non-null  object\n",
      " 6   urlhaus_link  288339 non-null  object\n",
      " 7   reporter      288339 non-null  object\n",
      "dtypes: int64(1), object(7)\n",
      "memory usage: 17.6+ MB\n"
     ]
    }
   ],
   "source": [
    "df_urlhaus_malicious.info()"
   ]
  },
  {
   "cell_type": "markdown",
   "metadata": {},
   "source": [
    "Este conjunto de datos contiene todas las __URLs maliciosas__ recopiladas por la organización _URLhaus_.<br>\n",
    "Este _Dataframe_ contiene __8 columnas__, de las cuales solo nos interesa la columna _'url'_.<br>"
   ]
  },
  {
   "cell_type": "code",
   "execution_count": 16,
   "metadata": {},
   "outputs": [
    {
     "data": {
      "text/html": [
       "<div>\n",
       "<style scoped>\n",
       "    .dataframe tbody tr th:only-of-type {\n",
       "        vertical-align: middle;\n",
       "    }\n",
       "\n",
       "    .dataframe tbody tr th {\n",
       "        vertical-align: top;\n",
       "    }\n",
       "\n",
       "    .dataframe thead th {\n",
       "        text-align: right;\n",
       "    }\n",
       "</style>\n",
       "<table border=\"1\" class=\"dataframe\">\n",
       "  <thead>\n",
       "    <tr style=\"text-align: right;\">\n",
       "      <th></th>\n",
       "      <th>url</th>\n",
       "      <th>label</th>\n",
       "    </tr>\n",
       "  </thead>\n",
       "  <tbody>\n",
       "    <tr>\n",
       "      <th>0</th>\n",
       "      <td>https://mitsui-jyuku.mixh.jp/uploads/3884d4fe8...</td>\n",
       "      <td>malicious</td>\n",
       "    </tr>\n",
       "    <tr>\n",
       "      <th>1</th>\n",
       "      <td>https://mitsui-jyuku.mixh.jp/uploads/3881q2w3e...</td>\n",
       "      <td>malicious</td>\n",
       "    </tr>\n",
       "    <tr>\n",
       "      <th>2</th>\n",
       "      <td>https://mitsui-jyuku.mixh.jp/uploads/387N8Mk0.exe</td>\n",
       "      <td>malicious</td>\n",
       "    </tr>\n",
       "    <tr>\n",
       "      <th>3</th>\n",
       "      <td>https://mitsui-jyuku.mixh.jp/uploads/3870nH6.exe</td>\n",
       "      <td>malicious</td>\n",
       "    </tr>\n",
       "    <tr>\n",
       "      <th>4</th>\n",
       "      <td>https://mitsui-jyuku.mixh.jp/uploads/386ODNO38...</td>\n",
       "      <td>malicious</td>\n",
       "    </tr>\n",
       "  </tbody>\n",
       "</table>\n",
       "</div>"
      ],
      "text/plain": [
       "                                                 url      label\n",
       "0  https://mitsui-jyuku.mixh.jp/uploads/3884d4fe8...  malicious\n",
       "1  https://mitsui-jyuku.mixh.jp/uploads/3881q2w3e...  malicious\n",
       "2  https://mitsui-jyuku.mixh.jp/uploads/387N8Mk0.exe  malicious\n",
       "3   https://mitsui-jyuku.mixh.jp/uploads/3870nH6.exe  malicious\n",
       "4  https://mitsui-jyuku.mixh.jp/uploads/386ODNO38...  malicious"
      ]
     },
     "execution_count": 16,
     "metadata": {},
     "output_type": "execute_result"
    }
   ],
   "source": [
    "df_urlhaus_malicious = pd.DataFrame(df_urlhaus_malicious['url'])\n",
    "df_urlhaus_malicious['label'] = \"malicious\"\n",
    "df_urlhaus_malicious.head()"
   ]
  },
  {
   "cell_type": "markdown",
   "metadata": {},
   "source": [
    "El _Dataframe_ inicial no contenía una columna _'label'_, por lo que la añadimos con el valor _malicious_ para todos los casos.<br>"
   ]
  },
  {
   "cell_type": "markdown",
   "metadata": {},
   "source": [
    "- Agrupamos los datos según los valores de la columna \"label\":<br>"
   ]
  },
  {
   "cell_type": "code",
   "execution_count": 17,
   "metadata": {},
   "outputs": [
    {
     "data": {
      "text/plain": [
       "malicious    288339\n",
       "Name: label, dtype: int64"
      ]
     },
     "execution_count": 17,
     "metadata": {},
     "output_type": "execute_result"
    }
   ],
   "source": [
    "df_urlhaus_malicious['label'].value_counts()"
   ]
  },
  {
   "cell_type": "code",
   "execution_count": 18,
   "metadata": {},
   "outputs": [
    {
     "data": {
      "text/html": [
       "<div>\n",
       "<style scoped>\n",
       "    .dataframe tbody tr th:only-of-type {\n",
       "        vertical-align: middle;\n",
       "    }\n",
       "\n",
       "    .dataframe tbody tr th {\n",
       "        vertical-align: top;\n",
       "    }\n",
       "\n",
       "    .dataframe thead th {\n",
       "        text-align: right;\n",
       "    }\n",
       "</style>\n",
       "<table border=\"1\" class=\"dataframe\">\n",
       "  <thead>\n",
       "    <tr style=\"text-align: right;\">\n",
       "      <th></th>\n",
       "      <th>url</th>\n",
       "      <th>label</th>\n",
       "    </tr>\n",
       "  </thead>\n",
       "  <tbody>\n",
       "    <tr>\n",
       "      <th>0</th>\n",
       "      <td>https://mitsui-jyuku.mixh.jp/uploads/3884d4fe8...</td>\n",
       "      <td>malicious</td>\n",
       "    </tr>\n",
       "    <tr>\n",
       "      <th>1</th>\n",
       "      <td>https://mitsui-jyuku.mixh.jp/uploads/3881q2w3e...</td>\n",
       "      <td>malicious</td>\n",
       "    </tr>\n",
       "    <tr>\n",
       "      <th>2</th>\n",
       "      <td>https://mitsui-jyuku.mixh.jp/uploads/387N8Mk0.exe</td>\n",
       "      <td>malicious</td>\n",
       "    </tr>\n",
       "    <tr>\n",
       "      <th>3</th>\n",
       "      <td>https://mitsui-jyuku.mixh.jp/uploads/3870nH6.exe</td>\n",
       "      <td>malicious</td>\n",
       "    </tr>\n",
       "    <tr>\n",
       "      <th>4</th>\n",
       "      <td>https://mitsui-jyuku.mixh.jp/uploads/386ODNO38...</td>\n",
       "      <td>malicious</td>\n",
       "    </tr>\n",
       "  </tbody>\n",
       "</table>\n",
       "</div>"
      ],
      "text/plain": [
       "                                                 url      label\n",
       "0  https://mitsui-jyuku.mixh.jp/uploads/3884d4fe8...  malicious\n",
       "1  https://mitsui-jyuku.mixh.jp/uploads/3881q2w3e...  malicious\n",
       "2  https://mitsui-jyuku.mixh.jp/uploads/387N8Mk0.exe  malicious\n",
       "3   https://mitsui-jyuku.mixh.jp/uploads/3870nH6.exe  malicious\n",
       "4  https://mitsui-jyuku.mixh.jp/uploads/386ODNO38...  malicious"
      ]
     },
     "metadata": {},
     "output_type": "display_data"
    },
    {
     "data": {
      "text/html": [
       "<div>\n",
       "<style scoped>\n",
       "    .dataframe tbody tr th:only-of-type {\n",
       "        vertical-align: middle;\n",
       "    }\n",
       "\n",
       "    .dataframe tbody tr th {\n",
       "        vertical-align: top;\n",
       "    }\n",
       "\n",
       "    .dataframe thead th {\n",
       "        text-align: right;\n",
       "    }\n",
       "</style>\n",
       "<table border=\"1\" class=\"dataframe\">\n",
       "  <thead>\n",
       "    <tr style=\"text-align: right;\">\n",
       "      <th></th>\n",
       "      <th>url</th>\n",
       "    </tr>\n",
       "    <tr>\n",
       "      <th>label</th>\n",
       "      <th></th>\n",
       "    </tr>\n",
       "  </thead>\n",
       "  <tbody>\n",
       "    <tr>\n",
       "      <th>malicious</th>\n",
       "      <td>288339</td>\n",
       "    </tr>\n",
       "  </tbody>\n",
       "</table>\n",
       "</div>"
      ],
      "text/plain": [
       "              url\n",
       "label            \n",
       "malicious  288339"
      ]
     },
     "metadata": {},
     "output_type": "display_data"
    }
   ],
   "source": [
    "df_urlhaus_malicious = pd.DataFrame(df_urlhaus_malicious['url'])\n",
    "df_urlhaus_malicious[\"label\"] = 'malicious'\n",
    "display(df_urlhaus_malicious.head())\n",
    "display(df_urlhaus_malicious.groupby([\"label\"]).count())"
   ]
  },
  {
   "cell_type": "markdown",
   "metadata": {},
   "source": [
    "Si agrupamos los datos según los valores de la columna 'label' (solo _malicious_) comprobamos que existen __301181 URLs__ categorizadas como __maliciosas__.<br>"
   ]
  },
  {
   "cell_type": "markdown",
   "metadata": {},
   "source": [
    "***\n",
    "### Combinación de los datos en un sólo DataFrame<br>\n",
    "\n",
    "- __Combinamos__ los datos de los __tres__ _Dataframes_ anteriores en uno solo llamado df:<br>"
   ]
  },
  {
   "cell_type": "code",
   "execution_count": 19,
   "metadata": {},
   "outputs": [
    {
     "data": {
      "text/html": [
       "<div>\n",
       "<style scoped>\n",
       "    .dataframe tbody tr th:only-of-type {\n",
       "        vertical-align: middle;\n",
       "    }\n",
       "\n",
       "    .dataframe tbody tr th {\n",
       "        vertical-align: top;\n",
       "    }\n",
       "\n",
       "    .dataframe thead th {\n",
       "        text-align: right;\n",
       "    }\n",
       "</style>\n",
       "<table border=\"1\" class=\"dataframe\">\n",
       "  <thead>\n",
       "    <tr style=\"text-align: right;\">\n",
       "      <th></th>\n",
       "      <th>url</th>\n",
       "    </tr>\n",
       "    <tr>\n",
       "      <th>label</th>\n",
       "      <th></th>\n",
       "    </tr>\n",
       "  </thead>\n",
       "  <tbody>\n",
       "    <tr>\n",
       "      <th>benign</th>\n",
       "      <td>345738</td>\n",
       "    </tr>\n",
       "    <tr>\n",
       "      <th>malicious</th>\n",
       "      <td>371503</td>\n",
       "    </tr>\n",
       "  </tbody>\n",
       "</table>\n",
       "</div>"
      ],
      "text/plain": [
       "              url\n",
       "label            \n",
       "benign     345738\n",
       "malicious  371503"
      ]
     },
     "execution_count": 19,
     "metadata": {},
     "output_type": "execute_result"
    }
   ],
   "source": [
    "df = pd.concat([df_urldata, df_malware, df_urlhaus_malicious], axis=0)\n",
    "df.groupby(['label']).count()"
   ]
  },
  {
   "cell_type": "markdown",
   "metadata": {},
   "source": [
    "Podemos ver que en el _Dataframe_ final existen __400899 URLs maliciosas__ y __345738 no maliciosas__. Como podemos ver existe una __mayor proporción__ de urls etiquetadas a __\"benign\"__ que a __\"malicious\"__.<br>"
   ]
  },
  {
   "cell_type": "markdown",
   "metadata": {},
   "source": [
    "- Convertimos los valores de la etiqueta _label_ de _String_ a _Integer_:<br>\n",
    "    1. __'malicious'__ = __1__\n",
    "    2. __'benign'__ = __0__"
   ]
  },
  {
   "cell_type": "code",
   "execution_count": 20,
   "metadata": {
    "scrolled": true
   },
   "outputs": [
    {
     "data": {
      "text/html": [
       "<div>\n",
       "<style scoped>\n",
       "    .dataframe tbody tr th:only-of-type {\n",
       "        vertical-align: middle;\n",
       "    }\n",
       "\n",
       "    .dataframe tbody tr th {\n",
       "        vertical-align: top;\n",
       "    }\n",
       "\n",
       "    .dataframe thead th {\n",
       "        text-align: right;\n",
       "    }\n",
       "</style>\n",
       "<table border=\"1\" class=\"dataframe\">\n",
       "  <thead>\n",
       "    <tr style=\"text-align: right;\">\n",
       "      <th></th>\n",
       "      <th>url</th>\n",
       "    </tr>\n",
       "    <tr>\n",
       "      <th>label</th>\n",
       "      <th></th>\n",
       "    </tr>\n",
       "  </thead>\n",
       "  <tbody>\n",
       "    <tr>\n",
       "      <th>0</th>\n",
       "      <td>345738</td>\n",
       "    </tr>\n",
       "    <tr>\n",
       "      <th>1</th>\n",
       "      <td>371503</td>\n",
       "    </tr>\n",
       "  </tbody>\n",
       "</table>\n",
       "</div>"
      ],
      "text/plain": [
       "          url\n",
       "label        \n",
       "0      345738\n",
       "1      371503"
      ]
     },
     "execution_count": 20,
     "metadata": {},
     "output_type": "execute_result"
    }
   ],
   "source": [
    "df['label'] = df['label'].map({'malicious': 1, 'benign': 0})\n",
    "df.groupby(['label']).count()"
   ]
  },
  {
   "cell_type": "markdown",
   "metadata": {},
   "source": [
    "***\n",
    "## Guardamos los datos<br>\n",
    "- __Guardamos__ el contenido del _DataFrame_ final para realizar la extracción de características como siguiente paso:<br>"
   ]
  },
  {
   "cell_type": "code",
   "execution_count": 21,
   "metadata": {},
   "outputs": [],
   "source": [
    "import pandas as pd\n",
    "\n",
    "def save_data(dataframe, filename, separator, folder, path=FINAL_DATASETS_PATH):\n",
    "    file_path = os.path.join(path, folder + os.sep + filename)\n",
    "    dataframe.to_csv(file_path, sep=separator, index=False)"
   ]
  },
  {
   "cell_type": "code",
   "execution_count": 22,
   "metadata": {},
   "outputs": [],
   "source": [
    "save_data(df, \"1_urls_dataset.csv\", ',', \"1_recogida_datos\")"
   ]
  },
  {
   "cell_type": "code",
   "execution_count": null,
   "metadata": {},
   "outputs": [],
   "source": []
  }
 ],
 "metadata": {
  "kernelspec": {
   "display_name": "Python 3",
   "language": "python",
   "name": "python3"
  },
  "language_info": {
   "codemirror_mode": {
    "name": "ipython",
    "version": 3
   },
   "file_extension": ".py",
   "mimetype": "text/x-python",
   "name": "python",
   "nbconvert_exporter": "python",
   "pygments_lexer": "ipython3",
   "version": "3.7.3"
  }
 },
 "nbformat": 4,
 "nbformat_minor": 2
}
