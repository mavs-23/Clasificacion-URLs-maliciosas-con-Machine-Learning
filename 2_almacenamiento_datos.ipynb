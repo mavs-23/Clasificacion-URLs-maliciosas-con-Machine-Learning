{
 "cells": [
  {
   "cell_type": "markdown",
   "metadata": {},
   "source": [
    "## ALMACENAMIENTO DE LOS DATOS\n",
    "\n",
    "En este apartado se almacenará el dataset con las URLs en una base de datos en MySQL:"
   ]
  },
  {
   "cell_type": "markdown",
   "metadata": {},
   "source": [
    "- Importamos las _librerías_ necesarias:"
   ]
  },
  {
   "cell_type": "code",
   "execution_count": 1,
   "metadata": {},
   "outputs": [],
   "source": [
    "import pandas as pd\n",
    "import pymysql\n",
    "from sqlalchemy import create_engine"
   ]
  },
  {
   "cell_type": "markdown",
   "metadata": {},
   "source": [
    "- __Directorios__ utilizados:"
   ]
  },
  {
   "cell_type": "code",
   "execution_count": 2,
   "metadata": {},
   "outputs": [],
   "source": [
    "import os\n",
    "PROJECT_ROOT_PATH = \".\"\n",
    "DATASETS_PATH = PROJECT_ROOT_PATH + os.sep + \"datasets\"\n",
    "FINAL_DATASETS_PATH = PROJECT_ROOT_PATH + os.sep + \"final_datasets\""
   ]
  },
  {
   "cell_type": "markdown",
   "metadata": {},
   "source": [
    "***"
   ]
  },
  {
   "cell_type": "markdown",
   "metadata": {},
   "source": [
    "- Lectura del fichero csv con las URLs:"
   ]
  },
  {
   "cell_type": "code",
   "execution_count": 3,
   "metadata": {},
   "outputs": [],
   "source": [
    "def load_data(filename, separator, folder, path=FINAL_DATASETS_PATH):\n",
    "    file_path = os.path.join(path, folder + os.sep + filename)\n",
    "    return pd.read_csv(file_path, sep=separator)"
   ]
  },
  {
   "cell_type": "code",
   "execution_count": 4,
   "metadata": {},
   "outputs": [],
   "source": [
    "df = load_data(\"1_urls_dataset.csv\",',', \"1_recogida_datos\")"
   ]
  },
  {
   "cell_type": "markdown",
   "metadata": {},
   "source": [
    "***\n",
    "### Configuraciones necesarias MySQL<br>"
   ]
  },
  {
   "cell_type": "code",
   "execution_count": 5,
   "metadata": {},
   "outputs": [],
   "source": [
    "user = 'tfg' #nombre de usuario en MySQL\n",
    "password = '1234' #password del usuario en MySQL\n",
    "host =  '127.0.0.1' #Host donde está ejecutándose MySQL\n",
    "port = 3306 #Puerto utilizado por MySQL\n",
    "database = 'tfg' #Nombre de la base de datos"
   ]
  },
  {
   "cell_type": "markdown",
   "metadata": {},
   "source": [
    "***\n",
    "### Conexión con la base de datos<br>"
   ]
  },
  {
   "cell_type": "code",
   "execution_count": 6,
   "metadata": {},
   "outputs": [],
   "source": [
    "connection = pymysql.connect(host=host, port=port, user=user, passwd=password)\n",
    "cursor = connection.cursor()"
   ]
  },
  {
   "cell_type": "markdown",
   "metadata": {},
   "source": [
    "***\n",
    "### Creación de database tfg<br>"
   ]
  },
  {
   "cell_type": "code",
   "execution_count": 7,
   "metadata": {},
   "outputs": [
    {
     "data": {
      "text/plain": [
       "1"
      ]
     },
     "execution_count": 7,
     "metadata": {},
     "output_type": "execute_result"
    }
   ],
   "source": [
    "cursor.execute(\"CREATE DATABASE IF NOT EXISTS tfg;\")"
   ]
  },
  {
   "cell_type": "markdown",
   "metadata": {},
   "source": [
    "***\n",
    "### Inserción de dataframe en MySQL<br>\n",
    "\n",
    "- Nos volvemos a conectar pero esta vez a la base de datos que hemos creado y realizamos el volcado de los datos del _dataframe_ a la tabla _urls_ en MySQL (automáticamente esta función crea la table con los tipos necesarios obtenidos del dataframe):"
   ]
  },
  {
   "cell_type": "code",
   "execution_count": 8,
   "metadata": {},
   "outputs": [],
   "source": [
    "connection = create_engine('mysql+pymysql://' + user + ':' + password + '@' + host + ':' + str(port) + '/' + database , echo=False)\n",
    "df.to_sql(con=connection, name='urls', if_exists='replace', index=False)"
   ]
  },
  {
   "cell_type": "markdown",
   "metadata": {},
   "source": [
    "***\n",
    "### Cerramos conexión con MySQL<br>"
   ]
  },
  {
   "cell_type": "code",
   "execution_count": 9,
   "metadata": {},
   "outputs": [],
   "source": [
    "connection.dispose()"
   ]
  },
  {
   "cell_type": "code",
   "execution_count": null,
   "metadata": {},
   "outputs": [],
   "source": []
  }
 ],
 "metadata": {
  "kernelspec": {
   "display_name": "Python 3",
   "language": "python",
   "name": "python3"
  },
  "language_info": {
   "codemirror_mode": {
    "name": "ipython",
    "version": 3
   },
   "file_extension": ".py",
   "mimetype": "text/x-python",
   "name": "python",
   "nbconvert_exporter": "python",
   "pygments_lexer": "ipython3",
   "version": "3.7.3"
  }
 },
 "nbformat": 4,
 "nbformat_minor": 4
}
